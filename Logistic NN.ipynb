{
 "cells": [
  {
   "cell_type": "code",
   "execution_count": 2,
   "metadata": {},
   "outputs": [],
   "source": [
    "import numpy as np\n",
    "import pandas as pd\n",
    "import matplotlib.pyplot as plt\n",
    "import scipy\n",
    "import h5py\n",
    "from lr_utils import load_dataset\n",
    "from PIL import Image\n",
    "from scipy import ndimage"
   ]
  },
  {
   "cell_type": "markdown",
   "metadata": {},
   "source": [
    "## Loading dataset from lr_utils .h5 data type"
   ]
  },
  {
   "cell_type": "code",
   "execution_count": 3,
   "metadata": {},
   "outputs": [],
   "source": [
    "x_train,y_train,x_test,y_test,classes=load_dataset()"
   ]
  },
  {
   "cell_type": "code",
   "execution_count": 4,
   "metadata": {},
   "outputs": [
    {
     "name": "stdout",
     "output_type": "stream",
     "text": [
      "<class 'numpy.ndarray'>\n"
     ]
    }
   ],
   "source": [
    "print(type(x_train))"
   ]
  },
  {
   "cell_type": "code",
   "execution_count": 5,
   "metadata": {},
   "outputs": [
    {
     "name": "stdout",
     "output_type": "stream",
     "text": [
      "[b'non-cat' b'cat']\n"
     ]
    }
   ],
   "source": [
    "print((classes))"
   ]
  },
  {
   "cell_type": "code",
   "execution_count": 6,
   "metadata": {},
   "outputs": [
    {
     "name": "stdout",
     "output_type": "stream",
     "text": [
      "(209, 64, 64, 3)\n"
     ]
    }
   ],
   "source": [
    "print(x_train.shape)"
   ]
  },
  {
   "cell_type": "code",
   "execution_count": 7,
   "metadata": {},
   "outputs": [
    {
     "name": "stdout",
     "output_type": "stream",
     "text": [
      "(50, 64, 64, 3)\n"
     ]
    }
   ],
   "source": [
    "print(x_test.shape)"
   ]
  },
  {
   "cell_type": "code",
   "execution_count": 8,
   "metadata": {},
   "outputs": [
    {
     "name": "stdout",
     "output_type": "stream",
     "text": [
      "(1, 209)\n"
     ]
    }
   ],
   "source": [
    "print(y_train.shape)"
   ]
  },
  {
   "cell_type": "code",
   "execution_count": 9,
   "metadata": {},
   "outputs": [
    {
     "name": "stdout",
     "output_type": "stream",
     "text": [
      "(1, 50)\n",
      "[0 0 1 0 0 0 0 1 0 0 0 1 0 1 1 0 0 0 0 1 0 0 0 0 1 1 0 1 0 1 0 0 0 0 0 0 0\n",
      " 0 1 0 0 1 1 0 0 0 0 1 0 0 1 0 0 0 1 0 1 1 0 1 1 1 0 0 0 0 0 0 1 0 0 1 0 0\n",
      " 0 0 0 0 0 0 0 0 0 1 1 0 0 0 1 0 0 0 1 1 1 0 0 1 0 0 0 0 1 0 1 0 1 1 1 1 1\n",
      " 1 0 0 0 0 0 1 0 0 0 1 0 0 1 0 1 0 1 1 0 0 0 1 1 1 1 1 0 0 0 0 1 0 1 1 1 0\n",
      " 1 1 0 0 0 1 0 0 1 0 0 0 0 0 1 0 1 0 1 0 0 1 1 1 0 0 1 1 0 1 0 1 0 0 0 0 0\n",
      " 1 0 0 1 0 0 0 1 0 0 0 0 1 0 0 1 0 0 0 0 0 0 0 0]\n"
     ]
    }
   ],
   "source": [
    "print(y_test.shape)\n",
    "print(y_train[0])"
   ]
  },
  {
   "cell_type": "code",
   "execution_count": 10,
   "metadata": {},
   "outputs": [],
   "source": [
    "img=(x_train[7])"
   ]
  },
  {
   "cell_type": "code",
   "execution_count": 11,
   "metadata": {},
   "outputs": [
    {
     "name": "stdout",
     "output_type": "stream",
     "text": [
      "Its a  cat  picture\n"
     ]
    }
   ],
   "source": [
    "print(\"Its a \",classes[np.squeeze(y_train[:,7])].decode(\"utf-8\"),\" picture\")"
   ]
  },
  {
   "cell_type": "code",
   "execution_count": 12,
   "metadata": {},
   "outputs": [
    {
     "name": "stdout",
     "output_type": "stream",
     "text": [
      "Its a cat picture\n"
     ]
    },
    {
     "data": {
      "text/plain": [
       "<matplotlib.image.AxesImage at 0xe54d9bd080>"
      ]
     },
     "execution_count": 12,
     "metadata": {},
     "output_type": "execute_result"
    },
    {
     "data": {
      "image/png": "[encoded data removed]",
      "text/plain": [
       "<Figure size 432x288 with 1 Axes>"
      ]
     },
     "metadata": {
      "needs_background": "light"
     },
     "output_type": "display_data"
    }
   ],
   "source": [
    "#Or\n",
    "result=(y_train[0][7])\n",
    "if(result==1):\n",
    "    print('Its a cat picture')\n",
    "else:\n",
    "    print('Its not a cat picture')\n",
    "plt.imshow(img)"
   ]
  },
  {
   "cell_type": "code",
   "execution_count": 13,
   "metadata": {},
   "outputs": [
    {
     "name": "stdout",
     "output_type": "stream",
     "text": [
      "<class 'numpy.ndarray'>\n"
     ]
    }
   ],
   "source": [
    "print(type(classes))"
   ]
  },
  {
   "cell_type": "code",
   "execution_count": 14,
   "metadata": {},
   "outputs": [
    {
     "name": "stdout",
     "output_type": "stream",
     "text": [
      "b'non-cat'\n"
     ]
    }
   ],
   "source": [
    "print((classes[0]))"
   ]
  },
  {
   "cell_type": "markdown",
   "metadata": {},
   "source": [
    "### Reshaping dataset from 4d (209,64,64,3) to 2d(12288,209)"
   ]
  },
  {
   "cell_type": "code",
   "execution_count": 15,
   "metadata": {},
   "outputs": [],
   "source": [
    "x_train_flatten=x_train.reshape(x_train.shape[0],-1).T\n",
    "x_test_flatten=x_test.reshape(x_test.shape[0],-1).T"
   ]
  },
  {
   "cell_type": "code",
   "execution_count": 16,
   "metadata": {},
   "outputs": [
    {
     "name": "stdout",
     "output_type": "stream",
     "text": [
      "After flattening the shape of X_trian:  (12288, 209)\n",
      "After flattening the shape fo x_test :  (12288, 50)\n"
     ]
    }
   ],
   "source": [
    "print('After flattening the shape of X_trian: ',x_train_flatten.shape)\n",
    "print('After flattening the shape fo x_test : ',x_test_flatten.shape)"
   ]
  },
  {
   "cell_type": "code",
   "execution_count": 17,
   "metadata": {},
   "outputs": [
    {
     "name": "stdout",
     "output_type": "stream",
     "text": [
      "209\n",
      "[196 192 190 ...  82  80  81]\n"
     ]
    }
   ],
   "source": [
    "print(len(x_train_flatten[0]))\n",
    "ks=(x_train_flatten.T)\n",
    "print((ks[1]))"
   ]
  },
  {
   "cell_type": "markdown",
   "metadata": {},
   "source": [
    "## Standardization of dataset"
   ]
  },
  {
   "cell_type": "code",
   "execution_count": 18,
   "metadata": {},
   "outputs": [],
   "source": [
    "x_train_standard=x_train_flatten/255.0\n",
    "x_test_standard=x_test_flatten/255.0"
   ]
  },
  {
   "cell_type": "code",
   "execution_count": 19,
   "metadata": {},
   "outputs": [
    {
     "data": {
      "text/plain": [
       "array([0.12156863, 0.75294118, 0.27843137, 0.08627451, 0.03529412,\n",
       "       0.30980392, 0.22352941, 0.08627451, 0.26666667, 0.18431373,\n",
       "       0.70588235, 0.02352941, 0.6       , 0.0627451 , 0.29411765,\n",
       "       0.76078431, 0.99607843, 0.85490196, 0.78431373, 0.00784314,\n",
       "       0.09019608, 0.25098039, 0.69803922, 0.75686275, 0.40784314,\n",
       "       0.05882353, 0.45490196, 0.14117647, 0.09803922, 0.70980392,\n",
       "       0.11372549, 0.74509804, 0.91764706, 0.40784314, 0.62352941,\n",
       "       0.13333333, 0.15294118, 0.6745098 , 0.11764706, 0.40784314,\n",
       "       0.65098039, 0.02352941, 0.12941176, 1.        , 0.41176471,\n",
       "       0.        , 0.23529412, 0.18823529, 0.15294118, 0.15294118,\n",
       "       0.65882353, 0.56078431, 0.3254902 , 0.1254902 , 0.04705882,\n",
       "       1.        , 0.12156863, 0.53333333, 0.28235294, 0.16862745,\n",
       "       0.25882353, 0.46666667, 0.50196078, 0.50196078, 0.16862745,\n",
       "       0.37647059, 0.90588235, 0.27058824, 0.5254902 , 0.42745098,\n",
       "       0.0627451 , 0.01960784, 0.03529412, 0.32941176, 0.4       ,\n",
       "       0.43529412, 0.1254902 , 0.0627451 , 0.19215686, 0.08235294,\n",
       "       0.44313725, 0.7372549 , 0.1372549 , 0.99215686, 0.47843137,\n",
       "       0.16862745, 0.1254902 , 0.19215686, 0.50196078, 0.16078431,\n",
       "       0.46666667, 0.27058824, 0.10980392, 0.43529412, 0.54901961,\n",
       "       0.37254902, 0.60784314, 0.74509804, 0.52941176, 0.28235294,\n",
       "       0.70196078, 0.3372549 , 0.09019608, 0.47843137, 0.12941176,\n",
       "       0.51764706, 0.6745098 , 0.49411765, 0.27058824, 0.25098039,\n",
       "       0.52941176, 0.63137255, 0.10588235, 0.73333333, 0.55686275,\n",
       "       0.78431373, 0.2627451 , 0.2627451 , 0.91764706, 0.76078431,\n",
       "       0.51372549, 0.4       , 0.30196078, 0.4       , 0.61176471,\n",
       "       0.26666667, 0.15686275, 0.08235294, 0.47843137, 0.0627451 ,\n",
       "       0.30588235, 0.93333333, 0.30588235, 0.00392157, 0.03137255,\n",
       "       1.        , 0.33333333, 0.80784314, 0.38823529, 0.6745098 ,\n",
       "       0.        , 0.68627451, 0.97254902, 0.0745098 , 0.12156863,\n",
       "       0.50588235, 0.50588235, 0.43529412, 0.15686275, 0.63137255,\n",
       "       0.75686275, 0.03921569, 0.21176471, 0.6627451 , 0.10588235,\n",
       "       0.50588235, 0.10588235, 0.22745098, 0.6745098 , 0.05098039,\n",
       "       0.16078431, 0.29803922, 0.33333333, 0.43137255, 0.60784314,\n",
       "       0.20392157, 0.90196078, 0.54509804, 0.03921569, 0.2627451 ,\n",
       "       0.83137255, 0.64705882, 0.58823529, 0.52156863, 0.09803922,\n",
       "       0.03137255, 0.45882353, 0.52156863, 0.15294118, 0.34901961,\n",
       "       0.94901961, 0.00784314, 0.32156863, 0.31764706, 0.42352941,\n",
       "       0.63137255, 0.14901961, 0.16470588, 0.78823529, 0.70588235,\n",
       "       0.50196078, 0.99215686, 0.60784314, 0.74117647, 0.12156863,\n",
       "       0.        , 0.36470588, 0.28235294, 0.4       , 0.19607843,\n",
       "       1.        , 0.22352941, 0.61960784, 0.43529412, 0.78431373,\n",
       "       0.04313725, 0.60784314, 0.09411765, 0.10980392])"
      ]
     },
     "execution_count": 19,
     "metadata": {},
     "output_type": "execute_result"
    }
   ],
   "source": [
    "x_train_standard[1]"
   ]
  },
  {
   "cell_type": "code",
   "execution_count": 20,
   "metadata": {},
   "outputs": [],
   "source": [
    "def sigmoid (z):\n",
    "    return 1/(1+np.exp(-z))"
   ]
  },
  {
   "cell_type": "code",
   "execution_count": 21,
   "metadata": {},
   "outputs": [
    {
     "data": {
      "text/plain": [
       "array([0.5       , 0.95257413])"
      ]
     },
     "execution_count": 21,
     "metadata": {},
     "output_type": "execute_result"
    }
   ],
   "source": [
    "sigmoid(np.array([0,3]))"
   ]
  },
  {
   "cell_type": "markdown",
   "metadata": {},
   "source": [
    "## Initializing the parameters"
   ]
  },
  {
   "cell_type": "code",
   "execution_count": 22,
   "metadata": {},
   "outputs": [],
   "source": [
    "def initilizing_par(dim):\n",
    "    w=np.zeros((dim,1),dtype=float)\n",
    "    b=0\n",
    "    print(w.shape)\n",
    "    assert w.shape==(dim,1)\n",
    "    assert (isinstance(b,float) or isinstance(b,int))\n",
    "    return w,b"
   ]
  },
  {
   "cell_type": "code",
   "execution_count": 23,
   "metadata": {},
   "outputs": [
    {
     "name": "stdout",
     "output_type": "stream",
     "text": [
      "(2, 1)\n",
      "[[0.]\n",
      " [0.]]\n",
      "0\n"
     ]
    }
   ],
   "source": [
    "d=2\n",
    "w,b=initilizing_par(d)\n",
    "print(w)\n",
    "print(b)"
   ]
  },
  {
   "cell_type": "code",
   "execution_count": 47,
   "metadata": {},
   "outputs": [],
   "source": [
    "def propagate(w,b,X,Y):\n",
    "    m=X.shape[1]                                   # compute activation\n",
    "    #print('m or dim : ',m)\n",
    "    A=sigmoid(np.dot(w.T,X)+b)\n",
    "    #print('A:',A)\n",
    "    cost=(-1/m)*(np.sum(Y*np.log(A)+(1-Y)*np.log(1-A)))\n",
    "    dw_=(1/m)*(np.dot(X,(A-Y).T))\n",
    "    db_=(1/m)*np.sum(A-Y)\n",
    "    #print('dw.shape: ',dw_.shape)\n",
    "    #print('w.shape:',w.shape)\n",
    "    #print('dw : ',dw_)\n",
    "    assert(dw_.shape==w.shape)\n",
    "    assert(db_.dtype==float)\n",
    "    cost=np.squeeze(cost)\n",
    "    assert(cost.shape==())\n",
    "    grad={\"dw\":dw_,\"db\":db_}\n",
    "    return grad,cost\n",
    "    "
   ]
  },
  {
   "cell_type": "code",
   "execution_count": 48,
   "metadata": {},
   "outputs": [
    {
     "name": "stdout",
     "output_type": "stream",
     "text": [
      "[[ 9.  12.  -5.4]]\n",
      "[[0.99987661 0.99999386 0.00449627]]\n",
      "dw = [[0.99845601]\n",
      " [2.39507239]]\n",
      "db = 0.001455578136784208\n",
      "cost = 5.801545319394553\n"
     ]
    }
   ],
   "source": [
    "\n",
    "\n",
    "w, b, X, Y = np.array([[1.],[2.]]), 2., np.array([[1.,2.,-1.],[3.,4.,-3.2]]), np.array([[1,0,1]])\n",
    "x_=(np.dot(w.T,X)+b)\n",
    "print(x_)\n",
    "print(sigmoid(x_))\n",
    "grads, cost = propagate(w, b, X, Y)\n",
    "print (\"dw = \" + str(grads[\"dw\"]))\n",
    "print (\"db = \" + str(grads[\"db\"]))\n",
    "print (\"cost = \" + str(cost))"
   ]
  },
  {
   "cell_type": "markdown",
   "metadata": {},
   "source": [
    "## Optimization : Gradient Descent"
   ]
  },
  {
   "cell_type": "code",
   "execution_count": 51,
   "metadata": {},
   "outputs": [],
   "source": [
    "\n",
    "def optimize(w,b,X,Y,num_ephochs,learning_rate):\n",
    "    costs=[]\n",
    "    for i in range(num_ephochs):\n",
    "        grads,cost=propagate(w,b,X,Y)\n",
    "        dw=grads[\"dw\"]\n",
    "        db=grads[\"db\"]\n",
    "    \n",
    "        #update rule\n",
    "        w=w-learning_rate*dw\n",
    "        b=b-learning_rate*db\n",
    "        \n",
    "        #save cost at each 100 iteration\n",
    "        if i %100 ==0:\n",
    "            costs.append(cost)\n",
    "            print('After %d iteration cost is : %f'%(i,cost))\n",
    "    params={\"w\":w,\"b\":b}\n",
    "    grads={\"dw\":dw,\"db\":db}\n",
    "    return params,grads,costs\n"
   ]
  },
  {
   "cell_type": "code",
   "execution_count": 55,
   "metadata": {},
   "outputs": [
    {
     "name": "stdout",
     "output_type": "stream",
     "text": [
      "After 0 iteration cost is : 5.801545\n",
      "After 100 iteration cost is : 1.055933\n",
      "After 200 iteration cost is : 0.378303\n",
      "After 300 iteration cost is : 0.363595\n",
      "After 400 iteration cost is : 0.356242\n",
      "After 500 iteration cost is : 0.349210\n",
      "After 600 iteration cost is : 0.342420\n",
      "After 700 iteration cost is : 0.335860\n",
      "After 800 iteration cost is : 0.329517\n",
      "After 900 iteration cost is : 0.323380\n",
      "w = [[-0.64226437]\n",
      " [-0.43498153]]\n",
      "b = 2.2025594747904087\n",
      "dw = [[ 0.06282959]\n",
      " [-0.01416124]]\n",
      "db = -0.04847508604218077\n"
     ]
    }
   ],
   "source": [
    "\n",
    "params,grads, costs= optimize(w, b, X, Y, num_ephochs= 1000, learning_rate = 0.009)\n",
    "\n",
    "print (\"w = \" + str(params['w']))\n",
    "print (\"b = \" + str(params['b']))\n",
    "print (\"dw = \" + str(grads[\"dw\"]))\n",
    "print (\"db = \" + str(grads[\"db\"]))\n"
   ]
  },
  {
   "cell_type": "code",
   "execution_count": 61,
   "metadata": {},
   "outputs": [],
   "source": [
    "def predict(w,b,X):\n",
    "    m=X.shape[1]\n",
    "    y_pred=np.zeros((1,m),dtype=float)\n",
    "    #w -- weights, a numpy array of size (num_px * num_px * 3, 1)\n",
    "    w=w.reshape(X.shape[0],1)\n",
    "    A=sigmoid(np.dot(w.T,X)+b)\n",
    "    print(A.shape)\n",
    "    for i in range (A.shape[1]):\n",
    "        if A[0,i]>0.5:\n",
    "            y_pred[0,i]=1\n",
    "        else:\n",
    "            y_pred[0,i]=0\n",
    "        \n",
    "    assert(y_pred.shape==(1,m))\n",
    "    return y_pred"
   ]
  },
  {
   "cell_type": "code",
   "execution_count": 62,
   "metadata": {},
   "outputs": [
    {
     "name": "stdout",
     "output_type": "stream",
     "text": [
      "(1, 3)\n",
      "predictions = [[1. 1. 0.]]\n"
     ]
    }
   ],
   "source": [
    "w = np.array([[0.1124579],[0.23106775]])\n",
    "b = -0.3\n",
    "X = np.array([[1.,-1.1,-3.2],[1.2,2.,0.1]])\n",
    "print (\"predictions = \" + str(predict(w, b, X)))"
   ]
  },
  {
   "cell_type": "code",
   "execution_count": 64,
   "metadata": {},
   "outputs": [
    {
     "name": "stdout",
     "output_type": "stream",
     "text": [
      "(209, 64, 64, 3)\n"
     ]
    }
   ],
   "source": [
    "print(x_train.shape)"
   ]
  },
  {
   "cell_type": "code",
   "execution_count": 80,
   "metadata": {},
   "outputs": [],
   "source": [
    "## Creating model pipline\n",
    "def model(X_train,Y_train,X_test,Y_test,ephochs=1000,learning_rate=0.09):\n",
    "    w,b=initilizing_par(X_train.shape[0])\n",
    "    params,grads,costs=optimize(w,b,X_train,Y_train,ephochs,learning_rate)\n",
    "    w=params['w']\n",
    "    b=params['b']\n",
    "    \n",
    "    Y_pred_train=predict(w,b,X_train)\n",
    "    Y_pred_test=predict(w,b,X_test)\n",
    "    \n",
    "    train_accuracy=(100-(np.mean(np.abs(Y_pred_train-Y_train)*100)))\n",
    "    test_accuracy=(100-(np.mean(np.abs(Y_pred_test-Y_test)*100)))\n",
    "    print(\"Train Accuracy : {}%\".format(train_accuracy))\n",
    "    print(\"Test Accuracy : {}%\".format(test_accuracy))\n",
    "    d={\"w\":w,\"b\":b,\"costs\":costs,\"Y_prediction_train\": Y_pred_train,\"Y_prediction_test\":Y_pred_test,\"learning_rate\":learning_rate,\"ephochs\":ephochs}\n",
    "    return d"
   ]
  },
  {
   "cell_type": "code",
   "execution_count": 81,
   "metadata": {},
   "outputs": [
    {
     "name": "stdout",
     "output_type": "stream",
     "text": [
      "(12288, 1)\n",
      "After 0 iteration cost is : 0.693147\n",
      "After 100 iteration cost is : 0.584508\n",
      "After 200 iteration cost is : 0.466949\n",
      "After 300 iteration cost is : 0.376007\n",
      "After 400 iteration cost is : 0.331463\n",
      "After 500 iteration cost is : 0.303273\n",
      "After 600 iteration cost is : 0.279880\n",
      "After 700 iteration cost is : 0.260042\n",
      "After 800 iteration cost is : 0.242941\n",
      "After 900 iteration cost is : 0.228004\n",
      "After 1000 iteration cost is : 0.214820\n",
      "After 1100 iteration cost is : 0.203078\n",
      "After 1200 iteration cost is : 0.192544\n",
      "After 1300 iteration cost is : 0.183033\n",
      "After 1400 iteration cost is : 0.174399\n",
      "After 1500 iteration cost is : 0.166521\n",
      "After 1600 iteration cost is : 0.159305\n",
      "After 1700 iteration cost is : 0.152667\n",
      "After 1800 iteration cost is : 0.146542\n",
      "After 1900 iteration cost is : 0.140872\n",
      "(1, 209)\n",
      "(1, 50)\n",
      "Train Accuracy : 99.04306220095694%\n",
      "Test Accuracy : 70.0%\n"
     ]
    }
   ],
   "source": [
    "d=model(x_train_standard,y_train,x_test_standard,y_test,ephochs=2000,learning_rate=0.005)"
   ]
  },
  {
   "cell_type": "code",
   "execution_count": 88,
   "metadata": {},
   "outputs": [
    {
     "data": {
      "image/png": "[encoded data removed]",
      "text/plain": [
       "<Figure size 432x288 with 1 Axes>"
      ]
     },
     "metadata": {
      "needs_background": "light"
     },
     "output_type": "display_data"
    }
   ],
   "source": [
    "costs=(np.squeeze(d['costs']))\n",
    "plt.plot(costs)\n",
    "plt.xlabel('itterations(in 100)')\n",
    "plt.ylabel('costs')\n",
    "plt.title('learning rate={}'.format(d['learning_rate']))\n",
    "plt.show()"
   ]
  },
  {
   "cell_type": "code",
   "execution_count": 102,
   "metadata": {},
   "outputs": [
    {
     "name": "stdout",
     "output_type": "stream",
     "text": [
      "(12288, 1)\n",
      "After 0 iteration cost is : 0.693147\n",
      "After 100 iteration cost is : 0.823921\n",
      "After 200 iteration cost is : 0.418944\n",
      "After 300 iteration cost is : 0.617350\n",
      "After 400 iteration cost is : 0.522116\n",
      "After 500 iteration cost is : 0.387709\n",
      "After 600 iteration cost is : 0.236254\n",
      "After 700 iteration cost is : 0.154222\n",
      "After 800 iteration cost is : 0.135328\n",
      "After 900 iteration cost is : 0.124971\n",
      "(1, 209)\n",
      "(1, 50)\n",
      "Train Accuracy : 98.56459330143541%\n",
      "Test Accuracy : 70.0%\n",
      "(12288, 1)\n",
      "After 0 iteration cost is : 0.693147\n",
      "After 100 iteration cost is : 0.591289\n",
      "After 200 iteration cost is : 0.555796\n",
      "After 300 iteration cost is : 0.528977\n",
      "After 400 iteration cost is : 0.506881\n",
      "After 500 iteration cost is : 0.487880\n",
      "After 600 iteration cost is : 0.471108\n",
      "After 700 iteration cost is : 0.456046\n",
      "After 800 iteration cost is : 0.442350\n",
      "After 900 iteration cost is : 0.429782\n",
      "(1, 209)\n",
      "(1, 50)\n",
      "Train Accuracy : 86.60287081339713%\n",
      "Test Accuracy : 62.0%\n",
      "(12288, 1)\n",
      "After 0 iteration cost is : 0.693147\n",
      "After 100 iteration cost is : 0.643677\n",
      "After 200 iteration cost is : 0.635737\n",
      "After 300 iteration cost is : 0.628572\n",
      "After 400 iteration cost is : 0.622040\n",
      "After 500 iteration cost is : 0.616029\n",
      "After 600 iteration cost is : 0.610455\n",
      "After 700 iteration cost is : 0.605248\n",
      "After 800 iteration cost is : 0.600354\n",
      "After 900 iteration cost is : 0.595729\n",
      "(1, 209)\n",
      "(1, 50)\n",
      "Train Accuracy : 66.02870813397129%\n",
      "Test Accuracy : 36.0%\n"
     ]
    }
   ],
   "source": [
    "learn_rates=np.array([0.01,0.001,0.0001])\n",
    "model_costs=list(np.zeros(learn_rates.shape))\n",
    "for i in range(learn_rates.shape[0]):\n",
    "    model_d=model(x_train_standard,y_train,x_test_standard,y_test,ephochs=1000,learning_rate=learn_rates[i])\n",
    "    model_costs[i]=np.array([model_d['costs']])\n",
    "    "
   ]
  },
  {
   "cell_type": "code",
   "execution_count": 117,
   "metadata": {},
   "outputs": [
    {
     "data": {
      "image/png": "[encoded data removed]",
      "text/plain": [
       "<Figure size 432x288 with 1 Axes>"
      ]
     },
     "metadata": {
      "needs_background": "light"
     },
     "output_type": "display_data"
    }
   ],
   "source": [
    "for i in range(learn_rates.shape[0]):\n",
    "    plt.plot(model_costs[i][0],label=\"{}\".format(learn_rates[i]))\n",
    "    #plt.legend('{}'.format(learn_rates[i]))\n",
    "plt.xlabel('number of itterations in 100s')\n",
    "plt.ylabel('Cost')\n",
    "legend = plt.legend(loc='upper center', shadow=True)\n",
    "frame = legend.get_frame()\n",
    "frame.set_facecolor('0.90')\n",
    "\n",
    "plt.show()"
   ]
  },
  {
   "cell_type": "code",
   "execution_count": null,
   "metadata": {},
   "outputs": [],
   "source": []
  }
 ],
 "metadata": {
  "kernelspec": {
   "display_name": "Python 3",
   "language": "python",
   "name": "python3"
  },
  "language_info": {
   "codemirror_mode": {
    "name": "ipython",
    "version": 3
   },
   "file_extension": ".py",
   "mimetype": "text/x-python",
   "name": "python",
   "nbconvert_exporter": "python",
   "pygments_lexer": "ipython3",
   "version": "3.7.3"
  }
 },
 "nbformat": 4,
 "nbformat_minor": 2
}
